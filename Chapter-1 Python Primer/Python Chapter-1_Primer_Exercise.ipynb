{
 "cells": [
  {
   "cell_type": "markdown",
   "id": "c11764f1",
   "metadata": {},
   "source": [
    "P-1.1 Write a short Python function, is multiple(n, m), that takes two integer values and returns True if n is a multiple of m, that is, n = mi for some integer i, and False otherwise.\n",
    "\n",
    "P-1.2 Write a short Python function, is even(k), that takes an integer value and returns True if k is even, and False otherwise. However, your function cannot use the multiplication, modulo, or division operators.\n",
    "\n",
    "P-1.3 Write a short Python function, minmax(data), that takes a sequence of one or more numbers, and returns the smallest and largest numbers, in the form of a tuple of length two. Do not use the built-in functions min or max in implementing your solution.\n",
    "\n",
    "P-1.4 Write a short Python function that takes a positive integer n and returns the sum of the squares of all the positive integers smaller than n.\n",
    "\n",
    "P-1.5 Give a single command that computes the sum from Exercise P-1.4, rely- ing on Python’s comprehension syntax and the built-in sum function.\n",
    "\n",
    "P-1.6 Write a short Python function that takes a positive integer n and returns the sum of the squares of all the odd positive integers smaller than n.\n",
    "\n",
    "P-1.7 Give a single command that computes the sum from Exercise P-1.6, rely- ing on Python’s comprehension syntax and the built-in sum function.\n",
    "\n",
    "P-1.8 Python allows negative integers to be used as indices into a sequence, such as a string. If string s has length n, and expression s[k] is used for index-n <= k < 0, what is the equivalent index j >= 0 such that s[j] references the same element?\n",
    "\n",
    "P-1.9 What parameters should be sent to the range constructor, to produce a range with values 50, 60, 70, 80?\n",
    "\n",
    "P-1.10 What parameters should be sent to the range constructor, to produce a range with values 8, 6, 4, 2, 0, −2, −4, −6, −8?\n",
    "\n",
    "P-1.11 Demonstrate how to use Python’s list comprehension syntax to produce the list [1, 2, 4, 8, 16, 32, 64, 128, 256].\n",
    "\n",
    "P-1.12 Python’s random module includes a function choice(data) that returns a random element from a non-empty sequence. The random module includes a more basic function randrange, with parameterization similar to the built-in range function, that return a random choice from the given range. Using only the randrange function, implement your own version of the choice function.\n",
    " \n",
    "P-1.13 Write a pseudo-code description of a function that reverses a list of n integers, so that the numbers are listed in the opposite order than they were before, and compare this method to an equivalent Python function for doing the same thing.\n",
    "\n",
    "P-1.14 Write a short Python function that takes a sequence of integer values and determines if there is a distinct pair of numbers in the sequence whose product is odd.\n",
    "\n",
    "P-1.15 Write a Python function that takes a sequence of numbers and determines if all the numbers are different from each other (that is, they are distinct).\n",
    "\n",
    "P-1.16 In our implementation of the scale function (page 25), the body of the loop executes the command data[j] = factor. We have discussed that numeric types are immutable, and that use of the = operator in this context causes the creation of a new instance (not the mutation of an existing instance). How is it still possible, then, that our implementation of scale changes the actual parameter sent by the caller?\n",
    "\n",
    "P-1.17 Had we implemented the scale function (page 25) as follows, does it work properly?\n",
    "def scale(data, factor):\n",
    "for val in data:\n",
    "val = factor\n",
    "Explain why or why not.\n",
    "\n",
    "P-1.18 Demonstrate how to use Python’s list comprehension syntax to produce the list [0, 2, 6, 12, 20, 30, 42, 56, 72, 90].\n",
    "\n",
    "P-1.19 Demonstrate how to use Python’s list comprehension syntax to produce the list [ a , b , c , ..., z ], but without having to type all 26 such characters literally.\n",
    "\n",
    "P-1.20 Python’s random module includes a function shuﬄe(data) that accepts a list of elements and randomly reorders the elements so that each possible order occurs with equal probability. The random module includes a more basic function randint(a, b) that returns a uniformly random integer from a to b (including both endpoints). Using only the randint function, implement your own version of the shuﬄe function.\n",
    "\n",
    "P-1.21 Write a Python program that repeatedly reads lines from standard input until an EOFError is raised, and then outputs those lines in reverse order (a user can indicate end of input by typing ctrl-D).\n",
    " \n",
    "\t\n",
    "P-1.22 Write a short Python program that takes two arrays a and b of length n storing int values, and returns the dot product of a and b. That is, it returns an array c of length n such that c[i]= a[i] · b[i], for i = 0,. , n − 1.\n",
    "\n",
    "P-1.23 Give an example of a Python code fragment that attempts to write an element to a list based on an index that may be out of bounds. If that index is out of bounds, the program should catch the exception that results, and print the following error message:\n",
    "“Don’t try buffer overflow attacks in Python!”\n",
    "\n",
    "P-1.24 Write a short Python function that counts the number of vowels in a given character string.\n",
    "\n",
    "P-1.25 Write a short Python function that takes a string s, representing a sentence, and returns a copy of the string with all punctuation removed. For example, if given the string \"Let's  try,  Mike.\", this function would return \"Lets try Mike\".\n",
    "\n",
    "P-1.26 Write a short program that takes as input three integers, a, b, and c, from the console and determines if they can be used in a correct arithmetic formula (in the given order), like “a + b = c,” “a = b − c,” or “a ∗ b = c.”\n",
    "\n",
    "P-1.27 In Section 1.8, we provided three different implementations of a generator that computes factors of a given integer. The third of those implementations, from page 41, was the most efﬁcient, but we noted that it did not yield the factors in increasing order. Modify the generator so that it reports factors in increasing order, while maintaining its general performance ad- vantages.\n",
    "\n",
    "P-1.28 The p-norm of a vector v = (v1, v2,.\t, vn) in n-dimensional space is deﬁned as\n",
    "  \t\n",
    "p\tp\tp\tp\n",
    "ǁvǁ =\tv1 + v2 + ··· + vn.\n",
    "\n",
    "For the special case of p = 2, this results in the traditional Euclidean norm, which represents the length of the vector. For example, the Eu-\n",
    "clidean  norm of a t√wo-dimensio√nal  vector √with coordinates (4, 3) has a\n",
    " \n",
    "Euclidean norm of\t42 + 32 =\t16 + 9 =\t25 = 5. Give an implementation of a function named norm such that norm(v, p) returns the p-norm\n",
    "value of v and norm(v) returns the Euclidean norm of v. You may assume that v is a list of numbers.\n",
    " \n",
    "P-1.29 Write a Python program that outputs all possible strings formed by using the characters c , a , t , d , o , and g exactly once.\n",
    "\n",
    "P-1.30 Write a Python program that can take a positive integer greater than 2 as input and write out the number of times one must repeatedly divide this number by 2 before getting a value less than 2.\n",
    "\n",
    "P-1.31 Write a Python program that can “make change.” Your program should take two numbers as input, one that is a monetary amount charged and the other that is a monetary amount given. It should then return the number of each kind of bill and coin to give back as change for the difference between the amount given and the amount charged. The values assigned to the bills and coins can be based on the monetary system of any current or former government. Try to design your program so that it returns as few bills and coins as possible.\n",
    "\n",
    "P-1.32 Write a Python program that can simulate a simple calculator, using the console as the exclusive input and output device. That is, each input to the calculator, be it a number, like 12.34 or 1034, or an operator, like + or =, can be done on a separate line. After each such input, you should output to the Python console what would be displayed on your calculator.\n",
    "\n",
    "P-1.33 Write a Python program that simulates a handheld calculator. Your pro- gram should process input from the Python console representing buttons that are “pushed,” and then output the contents of the screen after each op- eration is performed. Minimally, your calculator should be able to process the basic arithmetic operations and a reset/clear operation.\n",
    "\n",
    "P-1.34 A common punishment for school children is to write out a sentence multiple times. Write a Python stand-alone program that will write out the following sentence one hundred times: “I will never spam my friends again.” Your program should number each of the sentences and it should make eight different random-looking typos.\n",
    "\n",
    "P-1.35 The birthday paradox says that the probability that two people in a room will have the same birthday is more than half, provided n, the number of people in the room, is more than 23. This property is not really a paradox, but many people ﬁnd it surprising. Design a Python program that can test\n",
    "this paradox by a series of experiments on randomly generated birthdays, which test this paradox for n = 5, 10, 15, 20,... , 100.\n",
    "\n",
    "P-1.36 Write a Python program that inputs a list of words, separated by white- space, and outputs how many times each word appears in the list. You need not worry about efﬁciency at this point.\n"
   ]
  },
  {
   "cell_type": "code",
   "execution_count": null,
   "id": "adf1ba94",
   "metadata": {},
   "outputs": [],
   "source": []
  }
 ],
 "metadata": {
  "kernelspec": {
   "display_name": "Python 3 (ipykernel)",
   "language": "python",
   "name": "python3"
  },
  "language_info": {
   "codemirror_mode": {
    "name": "ipython",
    "version": 3
   },
   "file_extension": ".py",
   "mimetype": "text/x-python",
   "name": "python",
   "nbconvert_exporter": "python",
   "pygments_lexer": "ipython3",
   "version": "3.10.9"
  },
  "varInspector": {
   "cols": {
    "lenName": 16,
    "lenType": 16,
    "lenVar": 40
   },
   "kernels_config": {
    "python": {
     "delete_cmd_postfix": "",
     "delete_cmd_prefix": "del ",
     "library": "var_list.py",
     "varRefreshCmd": "print(var_dic_list())"
    },
    "r": {
     "delete_cmd_postfix": ") ",
     "delete_cmd_prefix": "rm(",
     "library": "var_list.r",
     "varRefreshCmd": "cat(var_dic_list()) "
    }
   },
   "types_to_exclude": [
    "module",
    "function",
    "builtin_function_or_method",
    "instance",
    "_Feature"
   ],
   "window_display": false
  }
 },
 "nbformat": 4,
 "nbformat_minor": 5
}
